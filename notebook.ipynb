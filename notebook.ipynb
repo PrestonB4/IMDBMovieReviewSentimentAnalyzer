{
 "cells": [
  {
   "cell_type": "markdown",
   "metadata": {},
   "source": [
    "# Sentiment Analysis on IMDB Reviews\n",
    "\n",
    "### Preston Brownlee\n",
    "\n",
    "## Introduction\n",
    "\n",
    "Text data offers invaluable insights in a world driven by digital communication. One major application of Natural Language Processing (NLP) is sentiment analysis, which refers to identifying and categorizing opinions expressed in a piece of text, particularly to determine whether the writer's attitude is positive, negative, or neutral.\n",
    "\n",
    "This project focuses on analyzing the sentiment conveyed in movie reviews from the IMDB dataset using Python’s NLTK library and other supporting tools. By leveraging classical machine learning techniques and NLP preprocessing, we aim to build a model capable of classifying reviews by sentiment. The findings will be visualized, interpreted, and evaluated using standard performance metrics.\n",
    "\n",
    "In the future, this project will be extended into a React-based web application, deployed for free using Vercel, with metrics and plots served as part of a comprehensive dashboard.\n",
    "\n",
    "---\n",
    "\n",
    "## Problem Statement\n",
    "\n",
    "The goal of this project is to build a sentiment classification system for movie reviews using textual data from IMDB. Each review in the dataset is tagged with a sentiment label (positive or negative). The task involves:\n",
    "\n",
    "- Cleaning and preprocessing the raw text data.\n",
    "- Extracting relevant features using TF-IDF.\n",
    "- Training a classification model using logistic regression.\n",
    "- Evaluating the model's performance using accuracy and other metrics.\n",
    "- Making real-time predictions on new review inputs.\n",
    "- Visualizing insights and results for reporting and web integration.\n",
    "\n",
    "---\n",
    "\n",
    "## Algorithm Overview\n",
    "\n",
    "The solution follows a classical NLP and machine learning pipeline:\n",
    "\n",
    "1. **Data Loading**: Combine training, validation, and test CSVs into a unified DataFrame.\n",
    "2. **Exploratory Analysis**: Count and visualize sentiment labels.\n",
    "3. **Text Preprocessing**:\n",
    "   - Lowercase conversion\n",
    "   - Punctuation removal\n",
    "   - Stopword removal using NLTK\n",
    "4. **Text Vectorization**: Apply TF-IDF vectorization to clean text.\n",
    "5. **Model Training**: Use logistic regression with an 80/20 train-test split.\n",
    "6. **Evaluation**:\n",
    "   - Accuracy score\n",
    "   - Classification report\n",
    "   - Confusion matrix\n",
    "7. **Prediction Testing**: Assess model's ability to classify new user reviews.\n",
    "\n",
    "---\n",
    "\n",
    "## Importing Required Libraries\n"
   ]
  },
  {
   "cell_type": "code",
   "execution_count": 1,
   "metadata": {},
   "outputs": [
    {
     "name": "stderr",
     "output_type": "stream",
     "text": [
      "[nltk_data] Downloading package punkt to C:\\Users\\Preston\n",
      "[nltk_data]     Brownlee\\AppData\\Roaming\\nltk_data...\n",
      "[nltk_data]   Package punkt is already up-to-date!\n",
      "[nltk_data] Downloading package stopwords to C:\\Users\\Preston\n",
      "[nltk_data]     Brownlee\\AppData\\Roaming\\nltk_data...\n",
      "[nltk_data]   Package stopwords is already up-to-date!\n"
     ]
    },
    {
     "data": {
      "text/plain": [
       "True"
      ]
     },
     "execution_count": 1,
     "metadata": {},
     "output_type": "execute_result"
    }
   ],
   "source": [
    "import numpy as np\n",
    "import pandas as pd\n",
    "\n",
    "import matplotlib.pyplot as plt\n",
    "import seaborn as sns\n",
    "\n",
    "from bs4 import BeautifulSoup\n",
    "import re                          \n",
    "import nltk                        \n",
    "from nltk.corpus import stopwords\n",
    "from nltk.tokenize import word_tokenize \n",
    "\n",
    "from sklearn.model_selection import train_test_split \n",
    "from sklearn.feature_extraction.text import TfidfVectorizer \n",
    "from sklearn.linear_model import LogisticRegression \n",
    "from sklearn.metrics import accuracy_score, confusion_matrix, classification_report \n",
    "\n",
    "import os\n",
    "\n",
    "nltk.download('punkt')\n",
    "nltk.download('stopwords')\n"
   ]
  },
  {
   "cell_type": "markdown",
   "metadata": {},
   "source": [
    "## Step 1: Load the Dataset\n"
   ]
  },
  {
   "cell_type": "markdown",
   "metadata": {},
   "source": [
    "## Data Loading and Exploration\n",
    "\n",
    "The dataset used in this project is sourced from Kaggle: **IMDB Dataset for Sentiment Analysis**. Each entry in the dataset contains a textual review and an associated sentiment label.\n",
    "\n",
    "In this section, we will:\n",
    "- Load the dataset into a DataFrame.\n",
    "- Display the structure and contents of the dataset.\n",
    "- Identify and handle any missing values.\n",
    "\n",
    "\n",
    "**INCLUDE API KEY IN DATA/ FOLDER WHEN RUNNING**"
   ]
  },
  {
   "cell_type": "code",
   "execution_count": 6,
   "metadata": {},
   "outputs": [
    {
     "name": "stdout",
     "output_type": "stream",
     "text": [
      "Dataset URL: https://www.kaggle.com/datasets/columbine/imdb-dataset-sentiment-analysis-in-csv-format\n",
      "Dataset downloaded successfully.\n"
     ]
    }
   ],
   "source": [
    "import os\n",
    "from kaggle.api.kaggle_api_extended import KaggleApi\n",
    "\n",
    "kaggle_dir = os.path.expanduser(\"~/.kaggle\")\n",
    "os.makedirs(kaggle_dir, exist_ok=True)\n",
    "\n",
    "import shutil\n",
    "shutil.copy(\"data/kaggle.json\", os.path.join(kaggle_dir, \"kaggle.json\"))\n",
    "\n",
    "try:\n",
    "    os.chmod(os.path.join(kaggle_dir, \"kaggle.json\"), 0o600)\n",
    "except:\n",
    "    pass \n",
    "\n",
    "api = KaggleApi()\n",
    "api.authenticate()\n",
    "\n",
    "api.dataset_download_files(\n",
    "    \"columbine/imdb-dataset-sentiment-analysis-in-csv-format\",\n",
    "    path=\"data/\",\n",
    "    unzip=True\n",
    ")\n",
    "\n",
    "print(\"Dataset downloaded successfully.\")\n"
   ]
  },
  {
   "cell_type": "code",
   "execution_count": 7,
   "metadata": {},
   "outputs": [
    {
     "name": "stdout",
     "output_type": "stream",
     "text": [
      "Combined dataset shape: (50000, 2)\n"
     ]
    },
    {
     "data": {
      "text/html": [
       "<div>\n",
       "<style scoped>\n",
       "    .dataframe tbody tr th:only-of-type {\n",
       "        vertical-align: middle;\n",
       "    }\n",
       "\n",
       "    .dataframe tbody tr th {\n",
       "        vertical-align: top;\n",
       "    }\n",
       "\n",
       "    .dataframe thead th {\n",
       "        text-align: right;\n",
       "    }\n",
       "</style>\n",
       "<table border=\"1\" class=\"dataframe\">\n",
       "  <thead>\n",
       "    <tr style=\"text-align: right;\">\n",
       "      <th></th>\n",
       "      <th>text</th>\n",
       "      <th>label</th>\n",
       "    </tr>\n",
       "  </thead>\n",
       "  <tbody>\n",
       "    <tr>\n",
       "      <th>0</th>\n",
       "      <td>I grew up (b. 1965) watching and loving the Th...</td>\n",
       "      <td>0</td>\n",
       "    </tr>\n",
       "    <tr>\n",
       "      <th>1</th>\n",
       "      <td>When I put this movie in my DVD player, and sa...</td>\n",
       "      <td>0</td>\n",
       "    </tr>\n",
       "    <tr>\n",
       "      <th>2</th>\n",
       "      <td>Why do people who do not know what a particula...</td>\n",
       "      <td>0</td>\n",
       "    </tr>\n",
       "    <tr>\n",
       "      <th>3</th>\n",
       "      <td>Even though I have great interest in Biblical ...</td>\n",
       "      <td>0</td>\n",
       "    </tr>\n",
       "    <tr>\n",
       "      <th>4</th>\n",
       "      <td>Im a die hard Dads Army fan and nothing will e...</td>\n",
       "      <td>1</td>\n",
       "    </tr>\n",
       "  </tbody>\n",
       "</table>\n",
       "</div>"
      ],
      "text/plain": [
       "                                                text  label\n",
       "0  I grew up (b. 1965) watching and loving the Th...      0\n",
       "1  When I put this movie in my DVD player, and sa...      0\n",
       "2  Why do people who do not know what a particula...      0\n",
       "3  Even though I have great interest in Biblical ...      0\n",
       "4  Im a die hard Dads Army fan and nothing will e...      1"
      ]
     },
     "execution_count": 7,
     "metadata": {},
     "output_type": "execute_result"
    }
   ],
   "source": [
    "import pandas as pd\n",
    "import os\n",
    "\n",
    "train_df = pd.read_csv(\"data/Train.csv\")\n",
    "test_df = pd.read_csv(\"data/Test.csv\")\n",
    "valid_df = pd.read_csv(\"data/Valid.csv\")\n",
    "\n",
    "df = pd.concat([train_df, test_df, valid_df], ignore_index=True)\n",
    "print(\"Combined dataset shape:\", df.shape)\n",
    "df.head()\n"
   ]
  },
  {
   "cell_type": "markdown",
   "metadata": {},
   "source": [
    "## Exploratory Data Analysis\n",
    "\n",
    "- Check for missing values or duplicates\n",
    "- Explore the balance between positive and negative reviews\n",
    "- Visualize class distribution to assess if the dataset is imbalanced\n"
   ]
  },
  {
   "cell_type": "code",
   "execution_count": 10,
   "metadata": {},
   "outputs": [],
   "source": [
    "df = df.rename(columns={\"text\": \"review\", \"label\": \"sentiment\"})"
   ]
  },
  {
   "cell_type": "markdown",
   "metadata": {},
   "source": [
    "## Step 2: Exploration and Visualization\n"
   ]
  },
  {
   "cell_type": "code",
   "execution_count": 11,
   "metadata": {},
   "outputs": [
    {
     "name": "stdout",
     "output_type": "stream",
     "text": [
      "Missing values:\n",
      " review       0\n",
      "sentiment    0\n",
      "dtype: int64\n",
      "\n",
      " Duplicate rows: 418\n",
      "\n",
      " Sentiment label distribution:\n",
      "sentiment\n",
      "0    25000\n",
      "1    25000\n",
      "Name: count, dtype: int64\n"
     ]
    },
    {
     "name": "stderr",
     "output_type": "stream",
     "text": [
      "C:\\Users\\Preston Brownlee\\AppData\\Local\\Temp\\ipykernel_34452\\1743036601.py:13: FutureWarning: \n",
      "\n",
      "Passing `palette` without assigning `hue` is deprecated and will be removed in v0.14.0. Assign the `x` variable to `hue` and set `legend=False` for the same effect.\n",
      "\n",
      "  sns.countplot(x=\"sentiment\", data=df, palette=\"pastel\")\n"
     ]
    },
    {
     "data": {
      "image/png": "[encoded data removed]",
      "text/plain": [
       "<Figure size 600x400 with 1 Axes>"
      ]
     },
     "metadata": {},
     "output_type": "display_data"
    }
   ],
   "source": [
    "import matplotlib.pyplot as plt\n",
    "import seaborn as sns\n",
    "\n",
    "print(\"Missing values:\\n\", df.isnull().sum())\n",
    "\n",
    "num_duplicates = df.duplicated().sum()\n",
    "print(f\"\\n Duplicate rows: {num_duplicates}\")\n",
    "\n",
    "print(\"\\n Sentiment label distribution:\")\n",
    "print(df[\"sentiment\"].value_counts())\n",
    "\n",
    "plt.figure(figsize=(6, 4))\n",
    "sns.countplot(x=\"sentiment\", data=df, palette=\"pastel\")\n",
    "plt.title(\"Sentiment Distribution (0 = Negative, 1 = Positive)\")\n",
    "plt.xlabel(\"Sentiment\")\n",
    "plt.ylabel(\"Count\")\n",
    "plt.xticks([0, 1], ['Negative', 'Positive'])\n",
    "plt.tight_layout()\n",
    "\n",
    "plot_path = \"plots/sentiment_distribution.png\"\n",
    "os.makedirs(\"plots\", exist_ok=True)\n",
    "plt.savefig(plot_path)\n",
    "plt.show()\n"
   ]
  },
  {
   "cell_type": "markdown",
   "metadata": {},
   "source": [
    "## Step 3: Text Preprocessing\n",
    "\n",
    "1. Lowercasing – Convert all text to lowercase for uniformity.\n",
    "2. HTML Removal – Remove any embedded HTML tags\n",
    "3. Punctuation Removal – Strip out punctuation and special characters\n",
    "4. Stopword Removal – Eliminate common words that do not affect sentiment.\n",
    "5. Tokenization – Split text into individual words for further processing."
   ]
  },
  {
   "cell_type": "code",
   "execution_count": 14,
   "metadata": {},
   "outputs": [
    {
     "name": "stderr",
     "output_type": "stream",
     "text": [
      "[nltk_data] Downloading package punkt to C:\\Users\\Preston\n",
      "[nltk_data]     Brownlee\\AppData\\Roaming\\nltk_data...\n",
      "[nltk_data]   Package punkt is already up-to-date!\n",
      "[nltk_data] Downloading package punkt_tab to C:\\Users\\Preston\n",
      "[nltk_data]     Brownlee\\AppData\\Roaming\\nltk_data...\n",
      "[nltk_data]   Unzipping tokenizers\\punkt_tab.zip.\n",
      "[nltk_data] Downloading package stopwords to C:\\Users\\Preston\n",
      "[nltk_data]     Brownlee\\AppData\\Roaming\\nltk_data...\n",
      "[nltk_data]   Package stopwords is already up-to-date!\n"
     ]
    }
   ],
   "source": [
    "import re\n",
    "from bs4 import BeautifulSoup\n",
    "import nltk\n",
    "from nltk.corpus import stopwords\n",
    "from nltk.tokenize import word_tokenize\n",
    "\n",
    "# Download NLTK data (with punkt_tab fix)\n",
    "nltk.download('punkt')\n",
    "nltk.download('punkt_tab')\n",
    "nltk.download('stopwords')\n",
    "\n",
    "stop_words = set(stopwords.words('english'))\n",
    "\n",
    "def clean_text(text):\n",
    "    # Remove HTML\n",
    "    text = BeautifulSoup(text, \"html.parser\").get_text()\n",
    "    # Lowercase\n",
    "    text = text.lower()\n",
    "    # Remove punctuation and numbers\n",
    "    text = re.sub(r\"[^a-z\\s]\", \"\", text)\n",
    "    # Tokenize\n",
    "    words = word_tokenize(text)\n",
    "    # Remove stopwords\n",
    "    words = [word for word in words if word not in stop_words]\n",
    "    return \" \".join(words)\n"
   ]
  },
  {
   "cell_type": "code",
   "execution_count": 15,
   "metadata": {},
   "outputs": [],
   "source": [
    "df[\"cleaned_review\"] = df[\"review\"].apply(clean_text)"
   ]
  },
  {
   "cell_type": "markdown",
   "metadata": {},
   "source": [
    "## Step 4: Train Baseline Model – Logistic Regression\n"
   ]
  },
  {
   "cell_type": "code",
   "execution_count": 16,
   "metadata": {},
   "outputs": [
    {
     "name": "stdout",
     "output_type": "stream",
     "text": [
      "Vectorizing text\n",
      "Splitting data\n",
      "Training logistic regression model\n",
      "Evaluating model accuracy\n",
      "Model Accuracy: 0.8876\n"
     ]
    }
   ],
   "source": [
    "from sklearn.feature_extraction.text import TfidfVectorizer\n",
    "from sklearn.model_selection import train_test_split\n",
    "from sklearn.linear_model import LogisticRegression\n",
    "from sklearn.metrics import accuracy_score\n",
    "\n",
    "print(\"Vectorizing text\")\n",
    "vectorizer = TfidfVectorizer(max_features=5000)\n",
    "X = vectorizer.fit_transform(df[\"cleaned_review\"])\n",
    "y = df[\"sentiment\"]\n",
    "\n",
    "print(\"Splitting data\")\n",
    "X_train, X_test, y_train, y_test = train_test_split(X, y, test_size=0.2, random_state=42)\n",
    "\n",
    "print(\"Training logistic regression model\")\n",
    "model = LogisticRegression(max_iter=200)\n",
    "model.fit(X_train, y_train)\n",
    "\n",
    "print(\"Evaluating model accuracy\")\n",
    "y_pred = model.predict(X_test)\n",
    "accuracy = accuracy_score(y_test, y_pred)\n",
    "print(f\"Model Accuracy: {accuracy:.4f}\")\n"
   ]
  },
  {
   "cell_type": "markdown",
   "metadata": {},
   "source": [
    "## Step 5: Evaluation – Logistic Regression\n"
   ]
  },
  {
   "cell_type": "code",
   "execution_count": 17,
   "metadata": {},
   "outputs": [
    {
     "name": "stdout",
     "output_type": "stream",
     "text": [
      "Generating confusion matrix\n"
     ]
    },
    {
     "data": {
      "image/png": "[encoded data removed]",
      "text/plain": [
       "<Figure size 600x400 with 2 Axes>"
      ]
     },
     "metadata": {},
     "output_type": "display_data"
    },
    {
     "name": "stdout",
     "output_type": "stream",
     "text": [
      "Classification Report\n",
      "              precision    recall  f1-score   support\n",
      "\n",
      "    Negative       0.89      0.88      0.89      4951\n",
      "    Positive       0.89      0.89      0.89      5049\n",
      "\n",
      "    accuracy                           0.89     10000\n",
      "   macro avg       0.89      0.89      0.89     10000\n",
      "weighted avg       0.89      0.89      0.89     10000\n",
      "\n"
     ]
    }
   ],
   "source": [
    "from sklearn.metrics import classification_report, confusion_matrix\n",
    "import seaborn as sns\n",
    "import matplotlib.pyplot as plt\n",
    "\n",
    "print(\"Generating confusion matrix\")\n",
    "cm = confusion_matrix(y_test, y_pred)\n",
    "\n",
    "plt.figure(figsize=(6, 4))\n",
    "sns.heatmap(cm, annot=True, fmt=\"d\", cmap=\"Blues\", xticklabels=[\"Negative\", \"Positive\"], yticklabels=[\"Negative\", \"Positive\"])\n",
    "plt.xlabel(\"Predicted\")\n",
    "plt.ylabel(\"Actual\")\n",
    "plt.title(\"Confusion Matrix\")\n",
    "plt.tight_layout()\n",
    "plt.savefig(\"plots/confusion_matrix.png\")\n",
    "plt.show()\n",
    "\n",
    "print(\"Classification Report\")\n",
    "print(classification_report(y_test, y_pred, target_names=[\"Negative\", \"Positive\"]))\n"
   ]
  },
  {
   "cell_type": "markdown",
   "metadata": {},
   "source": [
    "## Project Summary: Sentiment Analysis of IMDB Reviews\n",
    "\n",
    "This project successfully demonstrates binary sentiment classification using the IMDB movie review dataset.\n",
    "\n",
    "### Problem Statement\n",
    "To determine whether a given movie review conveys a positive or negative sentiment using Natural Language Processing (NLP) techniques.\n",
    "\n",
    "### Algorithm and Methodology\n",
    "- Data cleaning: removal of punctuation, case normalization, stop words filtering.\n",
    "- Text vectorization using TF-IDF.\n",
    "- Binary classification using Logistic Regression.\n",
    "- Model evaluated on an 80:20 train-test split.\n",
    "\n",
    "### Findings\n",
    "- Accuracy: 88.8%\n",
    "- F1-Score: 0.89\n",
    "- Balanced performance on both positive and negative classes.\n",
    "- Confusion matrix shows effective classification with minimal false positives/negatives.\n",
    "\n",
    "### Suitability\n",
    "This model demonstrates solid performance for basic sentiment analysis tasks and is suitable for academic and small-scale applications. For production-level deployment or nuanced sentiment scoring, more advanced models (e.g., transformer-based) are recommended.\n"
   ]
  },
  {
   "cell_type": "code",
   "execution_count": 20,
   "metadata": {},
   "outputs": [
    {
     "data": {
      "text/plain": [
       "['tfidf_vectorizer.pkl']"
      ]
     },
     "execution_count": 20,
     "metadata": {},
     "output_type": "execute_result"
    }
   ],
   "source": [
    "import joblib\n",
    "\n",
    "# Save model and vectorizer\n",
    "joblib.dump(model, \"sentiment_model.pkl\")\n",
    "joblib.dump(vectorizer, \"tfidf_vectorizer.pkl\")\n"
   ]
  },
  {
   "cell_type": "markdown",
   "metadata": {},
   "source": [
    "## Step 6: Model Upgrade: Improving Accuracy with Support Vector Machine\n",
    "\n",
    "To enhance classification performance, this section replaces logistic regression with a more robust binary classifier — Linear Support Vector Classifier (LinearSVC). This method performs better with high-dimensional sparse datasets like those produced by TF-IDF vectorization of text.\n",
    "\n",
    "Additionally, the TfidfVectorizer is configured with:\n",
    "- ngram_range=(1,2) — captures both unigrams and bigrams.\n",
    "- min_df=5 — removes words that occur in fewer than 5 documents."
   ]
  },
  {
   "cell_type": "code",
   "execution_count": 21,
   "metadata": {},
   "outputs": [],
   "source": [
    "from sklearn.model_selection import train_test_split\n",
    "\n",
    "X = df[\"cleaned_review\"]\n",
    "y = df[\"sentiment\"]\n",
    "\n",
    "X_train, X_test, y_train, y_test = train_test_split(\n",
    "    X, y, test_size=0.2, stratify=y, random_state=42\n",
    ")\n"
   ]
  },
  {
   "cell_type": "markdown",
   "metadata": {},
   "source": [
    "## Step 7: Save Final Model\n"
   ]
  },
  {
   "cell_type": "code",
   "execution_count": 22,
   "metadata": {},
   "outputs": [
    {
     "data": {
      "image/png": "[encoded data removed]",
      "text/plain": [
       "<Figure size 600x400 with 2 Axes>"
      ]
     },
     "metadata": {},
     "output_type": "display_data"
    },
    {
     "data": {
      "text/plain": [
       "(0.9017,\n",
       " '              precision    recall  f1-score   support\\n\\n    Negative       0.91      0.89      0.90      5000\\n    Positive       0.89      0.91      0.90      5000\\n\\n    accuracy                           0.90     10000\\n   macro avg       0.90      0.90      0.90     10000\\nweighted avg       0.90      0.90      0.90     10000\\n')"
      ]
     },
     "execution_count": 22,
     "metadata": {},
     "output_type": "execute_result"
    }
   ],
   "source": [
    "from sklearn.pipeline import Pipeline\n",
    "from sklearn.svm import LinearSVC\n",
    "from sklearn.feature_extraction.text import TfidfVectorizer\n",
    "from sklearn.metrics import accuracy_score, classification_report, confusion_matrix\n",
    "import seaborn as sns\n",
    "import matplotlib.pyplot as plt\n",
    "import joblib\n",
    "\n",
    "# Improved pipeline: TF-IDF + Linear SVC\n",
    "pipeline = Pipeline([\n",
    "    ('tfidf', TfidfVectorizer(\n",
    "        stop_words='english',\n",
    "        lowercase=True,\n",
    "        ngram_range=(1, 2),\n",
    "        min_df=5\n",
    "    )),\n",
    "    ('clf', LinearSVC())\n",
    "])\n",
    "\n",
    "# Fit the model\n",
    "pipeline.fit(X_train, y_train)\n",
    "\n",
    "# Predict and evaluate\n",
    "y_pred = pipeline.predict(X_test)\n",
    "accuracy = accuracy_score(y_test, y_pred)\n",
    "report = classification_report(y_test, y_pred, target_names=[\"Negative\", \"Positive\"])\n",
    "conf_matrix = confusion_matrix(y_test, y_pred)\n",
    "\n",
    "# Save the model pipeline\n",
    "joblib.dump(pipeline, \"sentiment_pipeline.pkl\")\n",
    "\n",
    "# Visualize confusion matrix\n",
    "plt.figure(figsize=(6, 4))\n",
    "sns.heatmap(conf_matrix, annot=True, fmt='d', cmap='Blues',\n",
    "            xticklabels=[\"Negative\", \"Positive\"],\n",
    "            yticklabels=[\"Negative\", \"Positive\"])\n",
    "plt.xlabel(\"Predicted\")\n",
    "plt.ylabel(\"Actual\")\n",
    "plt.title(\"Confusion Matrix - LinearSVC Model\")\n",
    "plt.tight_layout()\n",
    "plt.show()\n",
    "\n",
    "accuracy, report\n"
   ]
  },
  {
   "cell_type": "markdown",
   "metadata": {},
   "source": [
    "## Final Summary and Suitability\n"
   ]
  },
  {
   "cell_type": "markdown",
   "metadata": {},
   "source": [
    "This notebook demonstrated the full workflow of sentiment classification on movie reviews:\n",
    "\n",
    "- Data loading and cleaning  \n",
    "- Text preprocessing  \n",
    "- Feature extraction using TF‑IDF  \n",
    "- Baseline classification with Logistic Regression  \n",
    "- Model upgrade with LinearSVC and improved feature extraction  \n",
    "- Model evaluation, saving, and readiness for deployment  \n",
    "\n",
    "Final model accuracy: ~90.2%  \n",
    "Suitability: The model is suitable for educational use and prototype deployment in web applications. For production-level sentiment analysis, more complex models (e.g., transformer‑based) may provide even better performance.\n"
   ]
  }
 ],
 "metadata": {
  "kernelspec": {
   "display_name": "Python 3",
   "language": "python",
   "name": "python3"
  },
  "language_info": {
   "codemirror_mode": {
    "name": "ipython",
    "version": 3
   },
   "file_extension": ".py",
   "mimetype": "text/x-python",
   "name": "python",
   "nbconvert_exporter": "python",
   "pygments_lexer": "ipython3",
   "version": "3.13.9"
  }
 },
 "nbformat": 4,
 "nbformat_minor": 4
}
